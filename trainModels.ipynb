{
  "nbformat": 4,
  "nbformat_minor": 0,
  "metadata": {
    "colab": {
      "name": "trainModels.ipynb",
      "provenance": []
    },
    "kernelspec": {
      "name": "python3",
      "display_name": "Python 3"
    },
    "language_info": {
      "name": "python"
    }
  },
  "cells": [
    {
      "cell_type": "code",
      "execution_count": null,
      "metadata": {
        "id": "8_rKGc_5rZqf"
      },
      "outputs": [],
      "source": [
        "import pandas as pd\n",
        "from sklearn.decomposition import PCA\n",
        "from sklearn.model_selection import train_test_split\n",
        "from sklearn.ensemble import RandomForestClassifier"
      ]
    },
    {
      "cell_type": "code",
      "source": [
        "cleaned = pd.read_csv(\"cleanedStats.csv\")\n",
        "cleanedResults = cleaned[['decision']]\n",
        "cleaned.drop(columns=['decision'], inplace=True)\n",
        "\n",
        "fulldata = pd.read_csv(\"cleanedStats.csv\")\n",
        "results = fulldata[['win']]\n",
        "fulldata.drop(columns=['challenges', 'championName', 'perks', 'summonerId', 'summonerName', 'win', 'puuid', 'role', 'lane', 'individualPosition', 'riotIdName', 'riotIdTagline', 'teamPosition'], inplace=True)\n",
        "#10 arbitrarily picked here, will tune for analysis later on\n",
        "reduced = pd.DataFrame(PCA(n_components=10).fit_transform(fulldata))"
      ],
      "metadata": {
        "id": "TYnXj7cEsbL7"
      },
      "execution_count": null,
      "outputs": []
    },
    {
      "cell_type": "code",
      "source": [
        "X_train, X_test, y_train, y_test = train_test_split(cleaned, cleanedResults, test_size=0.2, random_state=42)\n",
        "pcaX_train, pcaX_test, pcay_train, pcay_test = train_test_split(reduced, results, test_size=0.2, random_state=42)\n",
        "clf = RandomForestClassifier(random_state=42).fit(X_train, y_train)\n",
        "pcaCLF = RandomForestClassifier(random_state=42).fit(pcaX_train, pcay_train)"
      ],
      "metadata": {
        "id": "9ICc_q0griBE"
      },
      "execution_count": null,
      "outputs": []
    },
    {
      "cell_type": "code",
      "source": [
        "from sklearn.metrics import f1_score\n",
        "preds = clf.predict(X_test)\n",
        "pcaPreds = pcaCLF.predict(pcaX_test)\n",
        "score = f1_score(y_test, preds, average='binary')\n",
        "score = f1_score(y_test, preds, average='binary')\n",
        "#0.7272727272727274\n",
        "#0.6984485039288342"
      ],
      "metadata": {
        "id": "pLg1WrroubZI"
      },
      "execution_count": null,
      "outputs": []
    },
    {
      "cell_type": "code",
      "source": [
        "pickle.dump(clf, open(\"cleanedModel.sav\"), 'rb')\n",
        "pickle.dump(pcaCLF, open(\"reducedModel.sav\"), 'rb')"
      ],
      "metadata": {
        "id": "cir_tLggt-mS"
      },
      "execution_count": null,
      "outputs": []
    }
  ]
}