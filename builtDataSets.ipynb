{
  "nbformat": 4,
  "nbformat_minor": 0,
  "metadata": {
    "colab": {
      "name": "builtDataSets.ipynb",
      "provenance": []
    },
    "kernelspec": {
      "name": "python3",
      "display_name": "Python 3"
    },
    "language_info": {
      "name": "python"
    }
  },
  "cells": [
    {
      "cell_type": "code",
      "execution_count": null,
      "metadata": {
        "id": "tIPIK4WMZDnM"
      },
      "outputs": [],
      "source": [
        "from getStats import *\n",
        "import requests\n",
        "import pandas as pd\n",
        "import time"
      ]
    },
    {
      "cell_type": "code",
      "source": [
        "#Getting the API Keys from \n",
        "with open(\"keys.txt\") as f:\n",
        "  api = f.readlines()[0]\n",
        "\n",
        "#Getting the list of igns provided for the program\n",
        "with open(\"igns.txt\") as g:\n",
        "  igns = g.readlines()"
      ],
      "metadata": {
        "id": "Fln-TqB5ZNM0"
      },
      "execution_count": null,
      "outputs": []
    },
    {
      "cell_type": "code",
      "source": [
        "def getMatchStats(matchData, ign,api, df):\n",
        "    #playerStats=[]\n",
        "    kdas = 0\n",
        "    visionScores = 0\n",
        "    ccTime = 0\n",
        "    topLane = 0\n",
        "    csds = 0\n",
        "    csdCount = 0\n",
        "    wards = 0\n",
        "    for match in matchData:\n",
        "        url = \"https://na1.api.riotgames.com/lol/match/v4/matches/\"+ str(match) +\"?api_key=\"+ api\n",
        "        response = requests.get(url).json()\n",
        "        userIndex = getParticipantID(response, ign)\n",
        "        kdas += calculateKDA(response, userIndex)\n",
        "        visionScores += calculateVisionScore(response, userIndex)\n",
        "        ccTime += calculateCCTime(response, userIndex)\n",
        "        lane = getLaneStats(response, userIndex)\n",
        "        wards += getWards(response, userIndex)\n",
        "        if lane == 'TOP':\n",
        "            topLane += 1\n",
        "        #Riot's API will occasionally be unable to specify a lane opponent for a player, therefore omitting a CSD value as well. Only the matches with clearly defined CSDs are included in the average calculation.    \n",
        "        csd = getCSD(response, userIndex, lane)\n",
        "        if csd != False:\n",
        "            csds += csd\n",
        "            csdCount +=1\n",
        "    try:\n",
        "    \trow = {'ign':ign, 'avgKDA':kdas/len(matchData), 'avgVisionScore':visionScores/len(matchData), 'avgWards':wards/len(matchData), 'percentTop':topLane/len(matchData), 'avgCSD':csds/csdCount}\n",
        "    except:\n",
        "    \trow = {'ign':ign, 'avgKDA':kdas/len(matchData), 'avgVisionScore':visionScores/len(matchData), 'avgWards':wards/len(matchData), 'percentTop':topLane/len(matchData), 'avgCSD':0}\n",
        "    print(row)\n",
        "    \n",
        "    return row"
      ],
      "metadata": {
        "id": "Ro1J4cu7leCM"
      },
      "execution_count": null,
      "outputs": []
    },
    {
      "cell_type": "code",
      "source": [
        "def getAllMatchStats(matchData, ign,api, df):\n",
        "    for match in matchData:\n",
        "        url = \"https://na1.api.riotgames.com/lol/match/v4/matches/\"+ str(match) +\"?api_key=\"+ api\n",
        "        response = requests.get(url).json()\n",
        "        stats = pd.DataFrame(response['info']['participants'])"
      ],
      "metadata": {
        "id": "EnJkQJIYnZM0"
      },
      "execution_count": null,
      "outputs": []
    },
    {
      "cell_type": "code",
      "source": [
        "#Building the dataset for the selected player stats\n",
        "count = 0\n",
        "df = pd.DataFrame()\n",
        "\tfor ign in igns:\n",
        "    #Wrapping in multiple try-excepts to account for rate limits and internet connectivity issues that may potentially arise\n",
        "\t\ttry:\n",
        "\t\t\taccountID=getSummonerID(ign, api)\n",
        "\t\texcept:\n",
        "\t\t\tprint(ign)\n",
        "\t\t\tcontinue\n",
        "\t\ttry:\n",
        "\t\t\tmatchIDs = getMatchData(accountID, api)\n",
        "\t\texcept:\n",
        "\t\t\tprint(ign)\n",
        "\t\t\tcontinue\n",
        "\t\ttry:\n",
        "\t\t\trow = getMatchStats(matchIDs, ign ,api, df)\n",
        "\t\texcept:\n",
        "\t\t\tprint(ign)\n",
        "\t\t\tcontinue\n",
        "    \n",
        "\t\tdf = df.append(row, ignore_index=True)\n",
        "\t\tdf.to_csv(\"cleanedStats.csv\")\n",
        "\t\tprint(ign + \"Row Added\")\n",
        "\t\ttime.sleep(3)\n",
        "\t\tcount+=1\n",
        "\t\tif count == 5:\n",
        "\t\t\ttime.sleep(100)\n",
        "\t\t\tprint(\"Approaching Request limit, sleeping now\")\n",
        "\t\t\tcount=0\n",
        "\t\tdf.to_csv(\"temp.csv\")"
      ],
      "metadata": {
        "id": "QYot1dyqbPrb"
      },
      "execution_count": null,
      "outputs": []
    },
    {
      "cell_type": "code",
      "source": [
        "#Building the dataset for all of the player stats\n",
        "count = 0\n",
        "df = pd.DataFrame()\n",
        "\tfor ign in igns:\n",
        "    #Wrapping in multiple try-excepts to account for rate limits and internet connectivity issues that may potentially arise\n",
        "\t\ttry:\n",
        "\t\t\taccountID=getSummonerID(ign, api)\n",
        "\t\texcept:\n",
        "\t\t\tprint(ign)\n",
        "\t\t\tcontinue\n",
        "\t\ttry:\n",
        "\t\t\tmatchIDs = getMatchData(accountID, api)\n",
        "\t\texcept:\n",
        "\t\t\tprint(ign)\n",
        "\t\t\tcontinue\n",
        "\t\ttry:\n",
        "\t\t\tstats = getAllMatchStats((matchIDs, ign ,api, df)\n",
        "\t\texcept:\n",
        "\t\t\tprint(ign)\n",
        "\t\t\tcontinue\n",
        "    df = df.append(stats, ignore_index=True)\n",
        "\t\tdf.to_csv(\"allStats.csv\")\n",
        "\t\tprint(ign + \"Row Added\")\n",
        "\t\ttime.sleep(3)\n",
        "\t\tcount+=1\n",
        "\t\tif count == 5:\n",
        "\t\t\ttime.sleep(100)\n",
        "\t\t\tprint(\"Approaching Request limit, sleeping now\")\n",
        "\t\t\tcount=0\n",
        "\t\tdf.to_csv(\"allStats.csv\")\n",
        "    "
      ],
      "metadata": {
        "id": "mL-GSlYqlfxq"
      },
      "execution_count": null,
      "outputs": []
    }
  ]
}