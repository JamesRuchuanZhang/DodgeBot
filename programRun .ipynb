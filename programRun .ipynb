{
  "nbformat": 4,
  "nbformat_minor": 0,
  "metadata": {
    "colab": {
      "name": "programRun.ipynb",
      "provenance": []
    },
    "kernelspec": {
      "name": "python3",
      "display_name": "Python 3"
    },
    "language_info": {
      "name": "python"
    }
  },
  "cells": [
    {
      "cell_type": "code",
      "execution_count": null,
      "metadata": {
        "id": "rfkGlXAiEjSL"
      },
      "outputs": [],
      "source": [
        "from getStats import *\n",
        "from lcu_driver import Connector\n",
        "import pickle\n",
        "import sys\n",
        "import os\n",
        "import pandas as pd\n",
        "import sklearn"
      ]
    },
    {
      "cell_type": "code",
      "source": [
        "#Establishing the connector to the League Client Data and \n",
        "connector = Connector()\n",
        "names = []"
      ],
      "metadata": {
        "id": "PEFDkd-7Eogi"
      },
      "execution_count": null,
      "outputs": []
    },
    {
      "cell_type": "code",
      "source": [
        "@connector.ready\n",
        "async def connect(connection):\n",
        "    for i in range(5):\n",
        "        summoner = await connection.request('get', '/lol-champ-select/v1/summoners/'+str(i))\n",
        "        temp = await summoner.json()\n",
        "        sumId = temp['summonerId']\n",
        "        name = await connection.request('get', '/lol-summoner/v1/summoners/'+str(sumId))\n",
        "        temp2 = await name.json()\n",
        "        names.append(temp2['displayName'])\n",
        "    userName = await connection.request('get', '/lol-summoner/v1/current-summoner')\n",
        "    name = await userName.json()\n",
        "    names.remove(name['displayName'])"
      ],
      "metadata": {
        "id": "doHYYp9BEqay"
      },
      "execution_count": null,
      "outputs": []
    },
    {
      "cell_type": "code",
      "source": [
        "connector.start()\n",
        "#print(names)"
      ],
      "metadata": {
        "id": "s1exfES_EsTe"
      },
      "execution_count": null,
      "outputs": []
    },
    {
      "cell_type": "code",
      "source": [
        "#Building a dataframe for the users in the current lobby\n",
        "df = pd.DataFrame(columns=['ign', 'avgKDA', 'avgVisionScore', 'avgWards', 'percentTop', 'avgCSD'])\n",
        "for ign in names:\n",
        "    accountID=getSummonerID(ign, api)\n",
        "    matchIDs = getMatchData(accountID, api)\n",
        "    row = getMatchStats(matchIDs, ign ,api, df)\n",
        "    df = df.append(row, ignore_index=True)"
      ],
      "metadata": {
        "id": "MIk-Yo0erFBO"
      },
      "execution_count": null,
      "outputs": []
    },
    {
      "cell_type": "code",
      "source": [
        "model_path = \"\" #Add model path here for whichever \n",
        "model = pickle.load(open(model_path, 'rb'))\n",
        "X = df.drop(columns=['ign'])\n",
        "preds = model.predict(X)\n",
        "\n",
        "if preds.sum() < 3:\n",
        "    os.system(\"TASKKILL /F /IM leagueclient.exe\")"
      ],
      "metadata": {
        "id": "3_bAWW3NExas"
      },
      "execution_count": null,
      "outputs": []
    }
  ]
}