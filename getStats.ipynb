{
  "nbformat": 4,
  "nbformat_minor": 0,
  "metadata": {
    "colab": {
      "name": "getStats",
      "provenance": [],
      "collapsed_sections": []
    },
    "kernelspec": {
      "name": "python3",
      "display_name": "Python 3"
    },
    "language_info": {
      "name": "python"
    }
  },
  "cells": [
    {
      "cell_type": "code",
      "execution_count": 1,
      "metadata": {
        "id": "GfxjnKrk6fhh"
      },
      "outputs": [],
      "source": [
        "#Initial Imports\n",
        "import requests\n",
        "import pandas as pd\n",
        "import time"
      ]
    },
    {
      "cell_type": "code",
      "source": [
        "#Making the initial call for the summoner profile and parsing the account ID from it\n",
        "def getSummonerID(ign, api):\n",
        "        url = \"https://na1.api.riotgames.com/lol/summoner/v4/summoners/by-name/\"+ign+\"?api_key=\"+api\n",
        "        response = requests.get(url).json()\n",
        "        return response['accountId']"
      ],
      "metadata": {
        "id": "lwYt79Bp8rOP"
      },
      "execution_count": null,
      "outputs": []
    },
    {
      "cell_type": "code",
      "source": [
        "#Returns an array of the last 50 match IDs the user had played within the given queue parameters\n",
        "def getMatchData(accountID,api):\n",
        "  #Queues included in here are only those that exclude co-op vs AI to not let the stats get too far skewed\n",
        "    url = \"https://na1.api.riotgames.com/lol/match/v4/matchlists/by-account/\"+accountID+\"?queue=400&queue=420&queue=430&queue=440&endIndex=5&api_key=\" + api\n",
        "    response = requests.get(url).json()\n",
        "    return [x['gameId'] for x in response['matches']]"
      ],
      "metadata": {
        "id": "g9OQt7oA8uBs"
      },
      "execution_count": null,
      "outputs": []
    },
    {
      "cell_type": "code",
      "source": [
        "#establishes the indexing for the user in each json's set of match statistics.\n",
        "def getParticipantID(matchStats, ign):\n",
        "    #Each match has exactly 10 players\n",
        "    for i in range(10):\n",
        "        tempIGN = matchStats['participantIdentities'][i]['player']['summonerName']\n",
        "        if tempIGN == ign:\n",
        "            participantID = i\n",
        "    return participantID"
      ],
      "metadata": {
        "id": "0VVkzp4-8v39"
      },
      "execution_count": null,
      "outputs": []
    },
    {
      "cell_type": "code",
      "source": [
        "#parses out the kills, deaths and assists values for each match and returns a ratio for those 3 values.\n",
        "def calculateKDA(matchStats, participantID):\n",
        "    #Traditional KDA doesn't differentiate between 0 deaths and 1 death for ratio calculations. This handles the divide by 0 edge case.\n",
        "    if matchStats['participants'][participantID]['stats']['deaths'] == 0:\n",
        "        deaths = 1\n",
        "    else:\n",
        "        deaths = matchStats['participants'][participantID]['stats']['deaths']\n",
        "\n",
        "    kills = matchStats['participants'][participantID]['stats']['kills']\n",
        "    assists = matchStats['participants'][participantID]['stats']['assists']\n",
        "    kda = (kills + assists)/deaths\n",
        "    return kda"
      ],
      "metadata": {
        "id": "df1KI3rM8y8u"
      },
      "execution_count": null,
      "outputs": []
    },
    {
      "cell_type": "code",
      "source": [
        "#Returns the vision score for the player per match. Note that this value is heavily correlated with the amount of wards bought, but is not equivilant to it.\n",
        "def calculateVisionScore(matchStats, participantID):\n",
        "    visionScore = matchStats['participants'][participantID]['stats']['visionScore']\n",
        "    return visionScore"
      ],
      "metadata": {
        "id": "_nk_vHzm81f2"
      },
      "execution_count": null,
      "outputs": []
    },
    {
      "cell_type": "code",
      "source": [
        "#Returns the time spent applying crown control effects to enemy champions.\n",
        "def calculateCCTime(matchStats, participantID):\n",
        "    ccTime = matchStats['participants'][participantID]['stats']['totalTimeCrowdControlDealt']\n",
        "    return ccTime"
      ],
      "metadata": {
        "id": "6DuRNHop83Ut"
      },
      "execution_count": null,
      "outputs": []
    },
    {
      "cell_type": "code",
      "source": [
        "#Returns the role that the player played. The only value of interest here is \"TOP\". All other values will pass and not be a part of the calculations.\n",
        "def getLaneStats(matchStats, participantID):\n",
        "    lane = matchStats['participants'][participantID]['timeline']['lane']\n",
        "    return lane"
      ],
      "metadata": {
        "id": "eyPXChKQ84os"
      },
      "execution_count": null,
      "outputs": []
    },
    {
      "cell_type": "code",
      "source": [
        "#Returns the CSD prior to 10 minutes in each match's time line.\n",
        "def getCSD(matchStats, participantID, lane):\n",
        "    #The try-except block is implemented here to check for the cases where CSD is unable to be calculated by Riot's API.\n",
        "    try:\n",
        "        #Supports don't traditionally CS, any differentials here are omitted since this is not a metric that defines proficiency at the role.\n",
        "        if lane != \"SUPPORT\":\n",
        "            csd = matchStats['participants'][participantID]['timeline']['csDiffPerMinDeltas']['0-10']\n",
        "            return csd\n",
        "    except:\n",
        "        return False "
      ],
      "metadata": {
        "id": "WDmGz7ya86BU"
      },
      "execution_count": null,
      "outputs": []
    },
    {
      "cell_type": "code",
      "source": [
        "def getWards(matchStats, participantID):\n",
        "\twards = matchStats['participants'][participantID]['stats']['visionWardsBoughtInGame']\n",
        "\treturn wards"
      ],
      "metadata": {
        "id": "YuZ8y4ri88vc"
      },
      "execution_count": null,
      "outputs": []
    },
    {
      "cell_type": "code",
      "source": [
        "def getIGNs(matchData, ign, api):\n",
        "\tigns = set()\n",
        "\tfor match in matchData:\n",
        "\t\turl = \"https://na1.api.riotgames.com/lol/match/v4/matches/\"+ str(match) +\"?api_key=\"+ api\n",
        "\t\tresponse = requests.get(url).json()\n",
        "\t\tfor res in response[\"participantIdentities\"]:\n",
        "\t\t\tigns.add(res['player']['summonerName'])\n",
        "\n",
        "\n",
        "\treturn igns"
      ],
      "metadata": {
        "id": "6ygonx9l8-fs"
      },
      "execution_count": null,
      "outputs": []
    },
    {
      "cell_type": "code",
      "source": [
        ""
      ],
      "metadata": {
        "id": "4BqJVEIY9Al0"
      },
      "execution_count": null,
      "outputs": []
    }
  ]
}